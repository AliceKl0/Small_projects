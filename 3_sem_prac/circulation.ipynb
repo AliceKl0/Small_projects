{
 "cells": [
  {
   "cell_type": "code",
   "execution_count": 2,
   "id": "0d35306a-fbf0-41b1-bec3-358804910499",
   "metadata": {},
   "outputs": [],
   "source": [
    "import tkinter as tk\n",
    "import math"
   ]
  },
  {
   "cell_type": "code",
   "execution_count": 3,
   "id": "58239453-88a7-4ab7-8005-d69176ac8f2c",
   "metadata": {},
   "outputs": [],
   "source": [
    "canvas_size = 600\n",
    "circle_radius = 200\n",
    "speed_ = -2\n",
    "angle = 0\n",
    "\n",
    "center_x = canvas_size // 2 \n",
    "center_y = canvas_size // 2\n",
    "\n",
    "# Создаём окно\n",
    "root = tk.Tk()\n",
    "root.title(\"Лаба №1. Анимация\")\n",
    "\n",
    "# Создаём холст\n",
    "c = tk.Canvas(root, width=canvas_size, height=canvas_size)\n",
    "c.pack()\n",
    "\n",
    "# Окружность\n",
    "c.create_oval(center_x - circle_radius, center_y - circle_radius,\n",
    "               center_x + circle_radius, center_y + circle_radius)\n",
    "\n",
    "# Точка\n",
    "ball = c.create_oval(0, 0, 10, 10, fill='red')\n",
    "\n",
    "def motion():\n",
    "    global angle\n",
    "\n",
    "    x = center_x + circle_radius * math.cos(math.radians(angle))\n",
    "    y = center_y + circle_radius * math.sin(math.radians(angle))\n",
    "\n",
    "    c.coords(ball, x - 5, y - 5, x + 5, y + 5)\n",
    "\n",
    "    angle = angle + speed_\n",
    "\n",
    "    root.after(50, motion)\n",
    "\n",
    "motion()\n",
    "root.mainloop()"
   ]
  }
 ],
 "metadata": {
  "kernelspec": {
   "display_name": "Python 3 (ipykernel)",
   "language": "python",
   "name": "python3"
  },
  "language_info": {
   "codemirror_mode": {
    "name": "ipython",
    "version": 3
   },
   "file_extension": ".py",
   "mimetype": "text/x-python",
   "name": "python",
   "nbconvert_exporter": "python",
   "pygments_lexer": "ipython3",
   "version": "3.10.6"
  }
 },
 "nbformat": 4,
 "nbformat_minor": 5
}
